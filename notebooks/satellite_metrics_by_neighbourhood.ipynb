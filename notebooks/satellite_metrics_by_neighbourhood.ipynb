{
 "cells": [
  {
   "cell_type": "code",
   "execution_count": 6,
   "id": "bf215e2d",
   "metadata": {},
   "outputs": [
    {
     "name": "stdout",
     "output_type": "stream",
     "text": [
      "✅ wrote ../data/processed/neighbourhood_stats/ndvi_lst_neighbourhood_stats_2024.csv\n"
     ]
    }
   ],
   "source": [
    "import numpy as np, geopandas as gpd, rasterio\n",
    "from rasterio.mask import mask\n",
    "import pandas as pd\n",
    "\n",
    "NDVI_1KM = \"../data/processed/ndvi_clean/ndvi_summer_2024_mean_1km_match_lst.tif\"\n",
    "LST_1KM  = \"../data/processed/lst_clean/lst_summer_2024_mean_sinusoidal.tif\"\n",
    "NEIGH    = \"../data/raw/neighbourhood-boundaries.geojson\"\n",
    "OUT_CSV  = \"../data/processed/neighbourhood_stats/ndvi_lst_neighbourhood_stats_2024.csv\"\n",
    "\n",
    "# Load rasters + crs/transform\n",
    "ndvi_src = rasterio.open(NDVI_1KM)\n",
    "lst_src  = rasterio.open(LST_1KM)\n",
    "assert ndvi_src.crs == lst_src.crs, \"CRS mismatch; ensure both are sinusoidal 1 km\"\n",
    "neigh = gpd.read_file(NEIGH).to_crs(ndvi_src.crs)\n",
    "\n",
    "rows = []\n",
    "name_col = next((c for c in [\"NAME\",\"Name\",\"neighbourhood\",\"neighbourhood\",\"AREA_NAME\",\"AREA_NAME_EN\"] if c in neigh.columns), neigh.columns[0])\n",
    "\n",
    "for i, geom in enumerate(neigh.geometry):\n",
    "    # NDVI stats\n",
    "    ndvi_clip, _ = mask(ndvi_src, [geom], crop=True)\n",
    "    ndvi = ndvi_clip[0]\n",
    "    ndvi_valid = np.isfinite(ndvi)\n",
    "    ndvi_mean = float(np.nanmean(ndvi)) if ndvi_valid.any() else np.nan\n",
    "    ndvi_pct_valid = float(ndvi_valid.mean()*100)\n",
    "\n",
    "    # LST stats\n",
    "    lst_clip, _ = mask(lst_src, [geom], crop=True)\n",
    "    lst = lst_clip[0]\n",
    "    lst_valid = np.isfinite(lst)\n",
    "    lst_mean = float(np.nanmean(lst)) if lst_valid.any() else np.nan\n",
    "    lst_pct_valid = float(lst_valid.mean()*100)\n",
    "\n",
    "    rows.append({\n",
    "        \"neighbourhood\": str(neigh.iloc[i][name_col]),\n",
    "        \"ndvi_mean_1km\": ndvi_mean,\n",
    "        \"ndvi_pct_valid\": ndvi_pct_valid,\n",
    "        \"lst_mean_c\": lst_mean,\n",
    "        \"lst_pct_valid\": lst_pct_valid\n",
    "    })\n",
    "\n",
    "pd.DataFrame(rows).to_csv(OUT_CSV, index=False)\n",
    "ndvi_src.close(); lst_src.close()\n",
    "print(\"✅ wrote\", OUT_CSV)\n"
   ]
  }
 ],
 "metadata": {
  "kernelspec": {
   "display_name": "venv",
   "language": "python",
   "name": "python3"
  },
  "language_info": {
   "codemirror_mode": {
    "name": "ipython",
    "version": 3
   },
   "file_extension": ".py",
   "mimetype": "text/x-python",
   "name": "python",
   "nbconvert_exporter": "python",
   "pygments_lexer": "ipython3",
   "version": "3.11.9"
  }
 },
 "nbformat": 4,
 "nbformat_minor": 5
}
